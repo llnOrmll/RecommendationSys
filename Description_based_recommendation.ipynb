{
 "cells": [
  {
   "cell_type": "markdown",
   "metadata": {},
   "source": [
    "## Description based stock recommendation\n",
    "\n",
    "Description downloaded from yahoo finance."
   ]
  },
  {
   "cell_type": "code",
   "execution_count": 90,
   "metadata": {},
   "outputs": [],
   "source": [
    "##\n",
    "import pandas as pd\n",
    "from sklearn.feature_extraction.text import TfidfVectorizer\n",
    "from sklearn.metrics.pairwise import linear_kernel"
   ]
  },
  {
   "cell_type": "code",
   "execution_count": 91,
   "metadata": {},
   "outputs": [],
   "source": [
    "df = pd.read_csv(\"https://raw.githubusercontent.com/llnOrmll/RecommendationSys/master/datasets/stock_dataset.csv\")"
   ]
  },
  {
   "cell_type": "code",
   "execution_count": 92,
   "metadata": {},
   "outputs": [
    {
     "name": "stdout",
     "output_type": "stream",
     "text": [
      "<class 'pandas.core.frame.DataFrame'>\n",
      "RangeIndex: 2295 entries, 0 to 2294\n",
      "Data columns (total 9 columns):\n",
      " #   Column              Non-Null Count  Dtype \n",
      "---  ------              --------------  ----- \n",
      " 0   Unnamed: 0          2295 non-null   int64 \n",
      " 1   code                2295 non-null   int64 \n",
      " 2   name                2295 non-null   object\n",
      " 3   mkt_segment         2295 non-null   int64 \n",
      " 4   close               2295 non-null   int64 \n",
      " 5   transaction_volume  2295 non-null   int64 \n",
      " 6   mrk_cap             2295 non-null   int64 \n",
      " 7   shares_outstanding  2295 non-null   int64 \n",
      " 8   desc                2284 non-null   object\n",
      "dtypes: int64(7), object(2)\n",
      "memory usage: 161.5+ KB\n"
     ]
    }
   ],
   "source": [
    "df.info()"
   ]
  },
  {
   "cell_type": "code",
   "execution_count": 93,
   "metadata": {},
   "outputs": [
    {
     "data": {
      "text/plain": [
       "0     3S KOREA Co., Ltd. engages in the semiconducto...\n",
       "1     AJ Networks Co.,Ltd. provides rental services ...\n",
       "2     AK Holdings, Inc., through its subsidiaries, m...\n",
       "3     APS Holdings Corporation, through its subsidia...\n",
       "4     Advanced Process Systems Corporation develops ...\n",
       "5     Asia Pacific Satellite Inc. develops and manuf...\n",
       "6     BGF Co., Ltd. operates retail convenience stor...\n",
       "7     BGF retail CO., LTD. operates convenience stor...\n",
       "8     BNK Financial Group Inc., together with its su...\n",
       "9     BYC Co., Ltd. produces and sells underwear in ...\n",
       "10    CJ Corporation engages in the food and food se...\n",
       "11    CJ CGV Co., Ltd. engages in the screening and ...\n",
       "12    CJ ENM CO., Ltd., together with its subsidiari...\n",
       "13    CJ Logistics Corporation provides integrated t...\n",
       "14    CJ Seafood Corporation provides processed food...\n",
       "Name: desc, dtype: object"
      ]
     },
     "execution_count": 93,
     "metadata": {},
     "output_type": "execute_result"
    }
   ],
   "source": [
    "df['desc'].head(15)"
   ]
  },
  {
   "cell_type": "code",
   "execution_count": 94,
   "metadata": {},
   "outputs": [
    {
     "data": {
      "text/plain": [
       "count    2284.000000\n",
       "mean      658.003503\n",
       "std       382.227183\n",
       "min        76.000000\n",
       "25%       374.000000\n",
       "50%       559.000000\n",
       "75%       856.000000\n",
       "max      2047.000000\n",
       "Name: length, dtype: float64"
      ]
     },
     "execution_count": 94,
     "metadata": {},
     "output_type": "execute_result"
    }
   ],
   "source": [
    "df['length'] = df['desc'].str.len()\n",
    "df['length'].describe()"
   ]
  },
  {
   "cell_type": "code",
   "execution_count": 95,
   "metadata": {},
   "outputs": [
    {
     "data": {
      "text/plain": [
       "'KB No.20 Special Purpose Acquisition Company is based in Seoul, South Korea.'"
      ]
     },
     "execution_count": 95,
     "metadata": {},
     "output_type": "execute_result"
    }
   ],
   "source": [
    "df[df['length'] == df['length'].min()]['desc'].iloc[0]"
   ]
  },
  {
   "cell_type": "markdown",
   "metadata": {},
   "source": [
    "## Tf"
   ]
  },
  {
   "cell_type": "code",
   "execution_count": 108,
   "metadata": {},
   "outputs": [],
   "source": [
    "tfidf = TfidfVectorizer(stop_words='english')"
   ]
  },
  {
   "cell_type": "code",
   "execution_count": 109,
   "metadata": {},
   "outputs": [],
   "source": [
    "df['desc'] = df['desc'].fillna('')"
   ]
  },
  {
   "cell_type": "code",
   "execution_count": 110,
   "metadata": {},
   "outputs": [
    {
     "data": {
      "text/plain": [
       "(2295, 15596)"
      ]
     },
     "execution_count": 110,
     "metadata": {},
     "output_type": "execute_result"
    }
   ],
   "source": [
    "tfidf_matrix = tfidf.fit_transform(df['desc'])\n",
    "tfidf_matrix.shape"
   ]
  },
  {
   "cell_type": "code",
   "execution_count": 111,
   "metadata": {},
   "outputs": [],
   "source": [
    "cosine_sim = linear_kernel(tfidf_matrix, tfidf_matrix)"
   ]
  },
  {
   "cell_type": "code",
   "execution_count": 112,
   "metadata": {},
   "outputs": [],
   "source": [
    "indices = pd.Series(df.index, index=df['name']).drop_duplicates()"
   ]
  },
  {
   "cell_type": "code",
   "execution_count": 116,
   "metadata": {},
   "outputs": [],
   "source": [
    "def get_recommendations(name: str, cosine_sin=cosine_sim):\n",
    "    idx = indices[name]\n",
    "    sim_scores = list(enumerate(cosine_sim[idx]))\n",
    "    sim_scores = sorted(sim_scores, key=lambda x: x[1], reverse=True)\n",
    "    sim_scores = sim_scores[1:11]\n",
    "    stock_indices = [i[0] for i in sim_scores]\n",
    "    return df['name'].iloc[stock_indices]"
   ]
  },
  {
   "cell_type": "code",
   "execution_count": 117,
   "metadata": {},
   "outputs": [
    {
     "data": {
      "text/plain": [
       "'네온테크'"
      ]
     },
     "execution_count": 117,
     "metadata": {},
     "output_type": "execute_result"
    }
   ],
   "source": [
    "sample = df['name'].sample().iloc[0]\n",
    "sample"
   ]
  },
  {
   "cell_type": "code",
   "execution_count": 118,
   "metadata": {},
   "outputs": [
    {
     "data": {
      "text/plain": [
       "1508       유테크\n",
       "574       디케이티\n",
       "789      비츠로테크\n",
       "1478      유라테크\n",
       "1204    에스에프에이\n",
       "310       나무기술\n",
       "325        네오셈\n",
       "1349      예선테크\n",
       "1199    에스앤에스텍\n",
       "1346      영화테크\n",
       "Name: name, dtype: object"
      ]
     },
     "execution_count": 118,
     "metadata": {},
     "output_type": "execute_result"
    }
   ],
   "source": [
    "get_recommendations(sample)"
   ]
  },
  {
   "cell_type": "code",
   "execution_count": null,
   "metadata": {},
   "outputs": [],
   "source": []
  }
 ],
 "metadata": {
  "kernelspec": {
   "display_name": "Python 3",
   "language": "python",
   "name": "python3"
  },
  "language_info": {
   "codemirror_mode": {
    "name": "ipython",
    "version": 3
   },
   "file_extension": ".py",
   "mimetype": "text/x-python",
   "name": "python",
   "nbconvert_exporter": "python",
   "pygments_lexer": "ipython3",
   "version": "3.8.5"
  }
 },
 "nbformat": 4,
 "nbformat_minor": 1
}
